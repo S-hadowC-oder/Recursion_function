{
 "cells": [
  {
   "cell_type": "code",
   "execution_count": 1,
   "id": "a84ed647-3a82-417b-aae7-83eeee0ac74e",
   "metadata": {},
   "outputs": [
    {
     "name": "stdout",
     "output_type": "stream",
     "text": [
      "Move disk 1 from rod A to rod C\n",
      "Move disk 2 from rod A to rod B\n",
      "Move disk 1 from rod C to rod B\n",
      "Move disk 3 from rod A to rod C\n",
      "Move disk 1 from rod B to rod A\n",
      "Move disk 2 from rod B to rod C\n",
      "Move disk 1 from rod A to rod C\n"
     ]
    }
   ],
   "source": [
    "# Q.1 Can you explain the logic and working of the Tower of Hanoi algorithm by writing a Java program?\n",
    "# How does the recursion work, and how are the movements of disks between rods accomplished?\n",
    "\n",
    "\n",
    "\n",
    "'''The Tower of Hanoi is a classic puzzle game where you have to move a stack of disks from one pole to another, following some rules:\n",
    "\n",
    "1.Only one disk can be moved at a time.\n",
    "2.Each move consists of taking the upper disk from one pole and placing it on top of another pole or on an empty pole.\n",
    "3.No disk may be placed on top of a smaller disk.\n",
    "The Tower of Hanoi problem is often represented using recursion, where we define the problem of moving n disks as a solution to moving n-1 \n",
    "disks to a temporary pole, moving the nth disk to the target pole, and then moving the n-1 disks from the temporary pole to the target pole.'''\n",
    "\n",
    "# Recursive Python function to solve tower of hanoi \n",
    "  \n",
    "def TowerOfHanoi(n, from_rod, to_rod, aux_rod): \n",
    "    if n == 0: \n",
    "        return\n",
    "    TowerOfHanoi(n-1, from_rod, aux_rod, to_rod) \n",
    "    print(\"Move disk\", n, \"from rod\", from_rod, \"to rod\", to_rod) \n",
    "    TowerOfHanoi(n-1, aux_rod, to_rod, from_rod) \n",
    "  \n",
    "  \n",
    "# Driver code \n",
    "N = 3\n",
    "  \n",
    "# A, C, B are the name of rods \n",
    "TowerOfHanoi(N, 'A', 'C', 'B') \n",
    "  \n",
    "# Contributed By Harshit Agrawal "
   ]
  },
  {
   "cell_type": "code",
   "execution_count": 2,
   "id": "399cae2e-1905-4208-8895-308c40921795",
   "metadata": {},
   "outputs": [
    {
     "name": "stdout",
     "output_type": "stream",
     "text": [
      "3\n",
      "5\n"
     ]
    }
   ],
   "source": [
    "# Q.2 Given two strings word1 and word2, return the minimum number of operations required to convert word1\n",
    "# to word2.\n",
    "# Example 1:\n",
    "# Input: word1 = \"horse\", word2 = \"ros\"\n",
    "# Output: 3\n",
    "# Explanation:\n",
    "# horse -> rorse (replace 'h' with 'r')\n",
    "# rorse -> rose (remove 'r')\n",
    "# rose -> ros (remove 'e')\n",
    "# Example 2:\n",
    "# Input: word1 = \"intention\", word2 = \"execution\"\n",
    "# Output: 5\n",
    "# Explanation:\n",
    "# intention -> inention (remove 't')\n",
    "# inention -> enention (replace 'i' with 'e')\n",
    "# enention -> exention (replace 'n' with 'x')\n",
    "# exention -> exection (replace 'n' with 'c')\n",
    "# exection -> execution (insert 'u')\n",
    "\n",
    "\n",
    "def minDistance(word1, word2):\n",
    "    # Calculate the length of both strings\n",
    "    m, n = len(word1), len(word2)\n",
    "    \n",
    "    # If word1 is empty, we can convert it to word2 by inserting all characters of word2 into word1\n",
    "    if m == 0:\n",
    "        return n\n",
    "    \n",
    "    # If word2 is empty, we can convert it to word1 by removing all characters of word1\n",
    "    if n == 0:\n",
    "        return m\n",
    "    \n",
    "    # Initialize the memoization table with -1\n",
    "    dp = [[-1 for _ in range(n+1)] for _ in range(m+1)]\n",
    "    \n",
    "    # Calculate the minimum number of operations required to convert an empty string to word2 or word1\n",
    "    for i in range(m+1):\n",
    "        for j in range(n+1):\n",
    "            if i == 0:\n",
    "                dp[i][j] = j\n",
    "            elif j == 0:\n",
    "                dp[i][j] = i\n",
    "            else:\n",
    "                # Calculate the minimum number of operations required to convert word1 to word2\n",
    "                if word1[i-1] == word2[j-1]:\n",
    "                    dp[i][j] = dp[i-1][j-1]\n",
    "                else:\n",
    "                    dp[i][j] = 1 + min(dp[i][j-1], dp[i-1][j], dp[i-1][j-1])\n",
    "    \n",
    "    return dp[m][n]\n",
    "print(minDistance(\"horse\", \"ros\")) \n",
    "print(minDistance(\"intention\", \"execution\"))"
   ]
  },
  {
   "cell_type": "code",
   "execution_count": 4,
   "id": "13cf2f7b-f3b8-41f9-b71f-a10f45f00391",
   "metadata": {},
   "outputs": [
    {
     "name": "stdout",
     "output_type": "stream",
     "text": [
      "13\n"
     ]
    }
   ],
   "source": [
    "# Q. 3 Print the max value of the array [ 13, 1, -3, 22, 5].\n",
    "def maxValu(arr,n):\n",
    "    #base case\n",
    "    maxx=arr[0]\n",
    "    for i in range(1,n):\n",
    "        if arr[i]> maxx:\n",
    "             maxx = arr[i]\n",
    "        return maxx\n",
    "    \n",
    "    \n",
    "\n",
    "#driver code\n",
    "arr = [13, 1 -3, 22, 5]\n",
    "n=len(arr)\n",
    "result = maxValu(arr,n)\n",
    "print(result)"
   ]
  },
  {
   "cell_type": "code",
   "execution_count": 5,
   "id": "22a0d072-52d7-446d-95c1-b81b3e92de22",
   "metadata": {},
   "outputs": [
    {
     "name": "stdout",
     "output_type": "stream",
     "text": [
      "Sum of the array values: 120\n"
     ]
    }
   ],
   "source": [
    "# Q.4 Find the sum of the values of the array [92, 23, 15, -20, 10].\n",
    "# Array of values\n",
    "array = [92, 23, 15, -20, 10]\n",
    "\n",
    "# Calculate the sum\n",
    "total_sum = sum(array)\n",
    "\n",
    "# Print the result\n",
    "print(\"Sum of the array values:\", total_sum)\n"
   ]
  },
  {
   "cell_type": "code",
   "execution_count": 6,
   "id": "b80e3fbc-958e-4cbc-a401-847bfca10482",
   "metadata": {},
   "outputs": [
    {
     "name": "stdout",
     "output_type": "stream",
     "text": [
      "153: Yes\n",
      "134: No\n"
     ]
    }
   ],
   "source": [
    "# Q.5 Given a number n. Print if it is an armstrong number or not.An armstrong number is a number if the sum\n",
    "# of every digit in that number raised to the power of total digits in that number is equal to the number.\n",
    "# Example : 153 = 1^3 + 5^3 + 3^3 = 1 + 125 + 27 = 153 hence 153 is an armstrong number. (Easy)\n",
    "# Input1 : 153\n",
    "# Output1 : Yes\n",
    "# Input 2 : 134\n",
    "# Output2 : No\n",
    "def is_armstrong_number(n):\n",
    "    # Convert the number to a string to easily iterate over digits\n",
    "    digits = str(n)\n",
    "    num_digits = len(digits)\n",
    "    \n",
    "    # Calculate the sum of each digit raised to the power of num_digits\n",
    "    sum_of_powers = sum(int(digit) ** num_digits for digit in digits)\n",
    "    \n",
    "    # Check if the sum equals the original number\n",
    "    return sum_of_powers == n\n",
    "\n",
    "# Example usage\n",
    "input1 = 153\n",
    "input2 = 134\n",
    "\n",
    "print(f\"{input1}: {'Yes' if is_armstrong_number(input1) else 'No'}\")\n",
    "print(f\"{input2}: {'Yes' if is_armstrong_number(input2) else 'No'}\")\n"
   ]
  },
  {
   "cell_type": "code",
   "execution_count": null,
   "id": "8a634258-8bad-42dc-8cff-0ce567871712",
   "metadata": {},
   "outputs": [],
   "source": []
  }
 ],
 "metadata": {
  "kernelspec": {
   "display_name": "Python 3 (ipykernel)",
   "language": "python",
   "name": "python3"
  },
  "language_info": {
   "codemirror_mode": {
    "name": "ipython",
    "version": 3
   },
   "file_extension": ".py",
   "mimetype": "text/x-python",
   "name": "python",
   "nbconvert_exporter": "python",
   "pygments_lexer": "ipython3",
   "version": "3.10.8"
  }
 },
 "nbformat": 4,
 "nbformat_minor": 5
}
